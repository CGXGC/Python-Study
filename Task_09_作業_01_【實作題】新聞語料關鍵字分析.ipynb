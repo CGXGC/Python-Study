{
  "nbformat": 4,
  "nbformat_minor": 0,
  "metadata": {
    "colab": {
      "provenance": [],
      "authorship_tag": "ABX9TyMv7D8Pf7cSlXUvpXRlpIzh",
      "include_colab_link": true
    },
    "kernelspec": {
      "name": "python3",
      "display_name": "Python 3"
    },
    "language_info": {
      "name": "python"
    }
  },
  "cells": [
    {
      "cell_type": "markdown",
      "metadata": {
        "id": "view-in-github",
        "colab_type": "text"
      },
      "source": [
        "<a href=\"https://colab.research.google.com/github/CGXGC/Python-Study/blob/main/Task_09_%E4%BD%9C%E6%A5%AD_01_%E3%80%90%E5%AF%A6%E4%BD%9C%E9%A1%8C%E3%80%91%E6%96%B0%E8%81%9E%E8%AA%9E%E6%96%99%E9%97%9C%E9%8D%B5%E5%AD%97%E5%88%86%E6%9E%90.ipynb\" target=\"_parent\"><img src=\"https://colab.research.google.com/assets/colab-badge.svg\" alt=\"Open In Colab\"/></a>"
      ]
    },
    {
      "cell_type": "code",
      "execution_count": 1,
      "metadata": {
        "colab": {
          "base_uri": "https://localhost:8080/"
        },
        "id": "hdf74cx_RSyd",
        "outputId": "cfb0f125-0640-407b-f459-74a60e3b9c21"
      },
      "outputs": [
        {
          "output_type": "stream",
          "name": "stdout",
          "text": [
            "蔡英文總統執政將滿7年，台灣民意基金會今天公布「國人對蔡英文總統執政7年的評價」民調，結果顯示總平均成績是60.29分，台灣民意基金會董事長游盈隆表示，這傳達了一個重要的訊息，那就是對於蔡總統執政7年，全民的總評價是勉強及格，有濃濃的「沒有功勞也有苦勞」味道。 \r 民調細項顯示，28.9%受訪者覺得蔡總統執政7年成績非常好，給80分以上；13.9%覺得還算好，給61-79分；18.9%覺得普普通通，給60分；16%覺得不太好，給50-59分；18.6%覺得一點也不好，給0-49分。            \r 從政黨支持傾向看，不同政黨支持者，對蔡總統執政七年的表現，有截然不同的觀感與評價。具體地講，民進黨支持者給出平均分數79.47分；國民黨支持者給出平均分數45.15分；民眾黨支持者給出平均分數48.05分；時代力量支持者給出平均分數65.26 分；中性選民給出平均分數57.05分。 \r 游盈隆表示，對蔡總統執政七年的表現，國人呈現五光十色的觀感與評價，因年齡、教育、省籍、階級、政黨及居住地的不同而不同，這本是一個多元民主社會的常態。但對一個執政已經七年，並期盼獲得接下來四年或更久執政機會的政黨而言，眼前整體民意反應的確有諸多值得反省警惕之處。 \r 本次調查由游盈隆負責問卷設計、報告撰寫；山水民意研究公司接受委託，主要負責抽樣設計、電話訪談與統計分析。訪問期間是5月8、9日兩天；對象是以全國為範圍的20歲以上成年人；抽樣方法是以全國住宅電話用戶為抽樣架構，以系統抽樣加尾數兩碼隨機方式抽樣；有效樣本1076人；抽樣誤差在95%信心水準下約正負3個百分點。台灣民意基金會今天公布「國人對蔡英文總統執政7年的評價」民調，結果顯示總平均成績是60.29分。圖／台灣民意基金會提供    蔡英文 游盈隆 民調\n"
          ]
        }
      ],
      "source": [
        "import requests\n",
        "from bs4 import BeautifulSoup\n",
        "\n",
        "# 利用 requests 對 API 來源發送一個請求\n",
        "response = requests.get('https://udn.com/news/breaknews/1')\n",
        "soup = BeautifulSoup(response.text)\n",
        "\n",
        "for link in soup.find_all('h3', class_='rounded-thumb__title')[:4]:\n",
        "  news_url = link.a['href']\n",
        "  news_response = requests.get('https://udn.com' + news_url)\n",
        "  news_soup = BeautifulSoup(news_response.text)\n",
        "  news_content = news_soup.find('div', class_='article-content__paragraph').text.strip().replace('\\n', ' ')\n",
        "\n",
        "print(news_content)"
      ]
    }
  ]
}