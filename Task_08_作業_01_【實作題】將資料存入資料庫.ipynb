{
  "nbformat": 4,
  "nbformat_minor": 0,
  "metadata": {
    "colab": {
      "provenance": [],
      "authorship_tag": "ABX9TyNhXlRSkr1hBlj/GhmLRBio",
      "include_colab_link": true
    },
    "kernelspec": {
      "name": "python3",
      "display_name": "Python 3"
    },
    "language_info": {
      "name": "python"
    }
  },
  "cells": [
    {
      "cell_type": "markdown",
      "metadata": {
        "id": "view-in-github",
        "colab_type": "text"
      },
      "source": [
        "<a href=\"https://colab.research.google.com/github/CGXGC/Python-Study/blob/main/Task_08_%E4%BD%9C%E6%A5%AD_01_%E3%80%90%E5%AF%A6%E4%BD%9C%E9%A1%8C%E3%80%91%E5%B0%87%E8%B3%87%E6%96%99%E5%AD%98%E5%85%A5%E8%B3%87%E6%96%99%E5%BA%AB.ipynb\" target=\"_parent\"><img src=\"https://colab.research.google.com/assets/colab-badge.svg\" alt=\"Open In Colab\"/></a>"
      ]
    },
    {
      "cell_type": "code",
      "execution_count": 2,
      "metadata": {
        "colab": {
          "base_uri": "https://localhost:8080/"
        },
        "id": "IT2kBguHaAJB",
        "outputId": "37bb465f-af49-4842-973b-0b58945c0672"
      },
      "outputs": [
        {
          "output_type": "stream",
          "name": "stdout",
          "text": [
            "INSERT INTO stocks VALUES ('臺北市', 340, '2023-05-01 03:46:06.815841')\n",
            "INSERT INTO stocks VALUES ('高雄市', 424, '2023-05-01 03:46:06.837620')\n",
            "INSERT INTO stocks VALUES ('臺中市', 436, '2023-05-01 03:46:06.854786')\n",
            "INSERT INTO stocks VALUES ('臺南市', 280, '2023-05-01 03:46:06.871079')\n",
            "INSERT INTO stocks VALUES ('基隆市', 57, '2023-05-01 03:46:06.887340')\n",
            "INSERT INTO stocks VALUES ('新竹市', 39, '2023-05-01 03:46:06.902336')\n",
            "INSERT INTO stocks VALUES ('嘉義市', 67, '2023-05-01 03:46:06.918736')\n",
            "INSERT INTO stocks VALUES ('新北市', 507, '2023-05-01 03:46:06.933765')\n",
            "INSERT INTO stocks VALUES ('桃園市', 271, '2023-05-01 03:46:06.951085')\n",
            "INSERT INTO stocks VALUES ('新竹縣', 48, '2023-05-01 03:46:06.966789')\n",
            "INSERT INTO stocks VALUES ('宜蘭縣', 76, '2023-05-01 03:46:06.981887')\n",
            "INSERT INTO stocks VALUES ('苗栗縣', 57, '2023-05-01 03:46:06.996592')\n",
            "INSERT INTO stocks VALUES ('彰化縣', 181, '2023-05-01 03:46:07.012562')\n",
            "INSERT INTO stocks VALUES ('南投縣', 67, '2023-05-01 03:46:07.027547')\n",
            "INSERT INTO stocks VALUES ('雲林縣', 131, '2023-05-01 03:46:07.041954')\n",
            "INSERT INTO stocks VALUES ('嘉義縣', 84, '2023-05-01 03:46:07.056293')\n",
            "INSERT INTO stocks VALUES ('屏東縣', 140, '2023-05-01 03:46:07.071768')\n",
            "INSERT INTO stocks VALUES ('澎湖縣', 11, '2023-05-01 03:46:07.088387')\n",
            "INSERT INTO stocks VALUES ('花蓮縣', 47, '2023-05-01 03:46:07.103199')\n",
            "INSERT INTO stocks VALUES ('臺東縣', 23, '2023-05-01 03:46:07.117021')\n",
            "INSERT INTO stocks VALUES ('金門縣', 6, '2023-05-01 03:46:07.132297')\n",
            "INSERT INTO stocks VALUES ('連江縣', 1, '2023-05-01 03:46:07.149380')\n",
            "[('臺北市', '340', '2023-05-01 03:46:06.815841'), ('高雄市', '424', '2023-05-01 03:46:06.837620'), ('臺中市', '436', '2023-05-01 03:46:06.854786'), ('臺南市', '280', '2023-05-01 03:46:06.871079'), ('基隆市', '57', '2023-05-01 03:46:06.887340'), ('新竹市', '39', '2023-05-01 03:46:06.902336'), ('嘉義市', '67', '2023-05-01 03:46:06.918736'), ('新北市', '507', '2023-05-01 03:46:06.933765'), ('桃園市', '271', '2023-05-01 03:46:06.951085'), ('新竹縣', '48', '2023-05-01 03:46:06.966789'), ('宜蘭縣', '76', '2023-05-01 03:46:06.981887'), ('苗栗縣', '57', '2023-05-01 03:46:06.996592'), ('彰化縣', '181', '2023-05-01 03:46:07.012562'), ('南投縣', '67', '2023-05-01 03:46:07.027547'), ('雲林縣', '131', '2023-05-01 03:46:07.041954'), ('嘉義縣', '84', '2023-05-01 03:46:07.056293'), ('屏東縣', '140', '2023-05-01 03:46:07.071768'), ('澎湖縣', '11', '2023-05-01 03:46:07.088387'), ('花蓮縣', '47', '2023-05-01 03:46:07.103199'), ('臺東縣', '23', '2023-05-01 03:46:07.117021'), ('金門縣', '6', '2023-05-01 03:46:07.132297'), ('連江縣', '1', '2023-05-01 03:46:07.149380')]\n"
          ]
        }
      ],
      "source": [
        "import sqlite3\n",
        "import datetime\n",
        "import requests\n",
        "import json\n",
        "\n",
        "\n",
        "conn = sqlite3.connect('example.db')\n",
        "c = conn.cursor()\n",
        "\n",
        "# 新增且清空資料表\n",
        "c.execute('''CREATE TABLE IF NOT EXISTS pharmacies\n",
        "             (city text, counts text, createdAt datetime)''')\n",
        "c.execute('''DELETE FROM pharmacies''')\n",
        "conn.commit()\n",
        "\n",
        "# 新增資料\n",
        "url = 'https://raw.githubusercontent.com/kiang/pharmacies/master/json/points.json'\n",
        "response = requests.get(url)\n",
        "d = response.text\n",
        "data = json.loads(d)\n",
        "\n",
        "# 計算各地區的藥局數量\n",
        "med_count = {}\n",
        "\n",
        "for d in data['features']:\n",
        "    conunty = d['properties']['address'][0:3]\n",
        "    if conunty not in med_count:\n",
        "        med_count[conunty] = 1\n",
        "    else:\n",
        "        med_count[conunty] += 1\n",
        "\n",
        "# 將資料存進資料庫\n",
        "\n",
        "for city, counts in med_count.items(): # 將每一筆資料分別取出來新增到資料庫\n",
        "    t = datetime.datetime.now() \n",
        "    print(f\"INSERT INTO stocks VALUES ('{city}', {counts}, '{t}')\")\n",
        "    c.execute(f\"INSERT INTO pharmacies VALUES ('{city}', {counts}, '{t}')\")\n",
        "    conn.commit()\n",
        "\n",
        "# 查詢資料\n",
        "c.execute(\"SELECT * FROM pharmacies\")\n",
        "print(c.fetchall())\n",
        "\n",
        "conn.commit()\n",
        "conn.close()"
      ]
    },
    {
      "cell_type": "code",
      "source": [
        "conn = sqlite3.connect('example.db')\n",
        "c = conn.cursor()\n",
        "\n",
        "# 新增且清空資料表\n",
        "c.execute('''CREATE TABLE IF NOT EXISTS masks\n",
        "             (city text, counts integer, createdAt datetime)''')\n",
        "c.execute('''DELETE FROM masks''')\n",
        "conn.commit()\n",
        "\n",
        "# 新增資料\n",
        "response = requests.get('https://raw.githubusercontent.com/kiang/pharmacies/master/json/points.json')\n",
        "d = response.text\n",
        "data = json.loads(d)\n",
        "\n",
        "#計算出每個地區的成人剩餘口罩數量\n",
        "mask_count = {}\n",
        "# 填入欄位名稱\n",
        "for d in data['features']:\n",
        "    conunty = d['properties']['address'][0:3]\n",
        "    if conunty not in mask_count: #判斷城市是否已經加入\n",
        "        mask_count[conunty] = d['properties']['mask_adult'] \n",
        "    else:\n",
        "        mask_count[conunty] = mask_count[conunty] + d['properties']['mask_adult'] #如有加入則原數字+新數字\n",
        "print(mask_count)\n",
        "\n",
        "for county, count in mask_count.items():\n",
        "    t = datetime.datetime.now()\n",
        "    print(f\"INSERT INTO stocks VALUES ('{county}', {count}, '{t}')\")\n",
        "    c.execute(f\"INSERT INTO masks VALUES ('{county}', {count}, '{t}')\")\n",
        "    conn.commit()\n",
        "\n",
        "# 查詢資料\n",
        "c.execute(\"SELECT * FROM masks\")\n",
        "print(c.fetchall())\n",
        "conn.commit()\n",
        "conn.close()"
      ],
      "metadata": {
        "colab": {
          "base_uri": "https://localhost:8080/"
        },
        "id": "td7-B5V-axu2",
        "outputId": "4cf89c0a-66ac-4beb-fe44-c12784cbd981"
      },
      "execution_count": 3,
      "outputs": [
        {
          "output_type": "stream",
          "name": "stdout",
          "text": [
            "{'臺北市': 323660, '高雄市': 428940, '臺中市': 556440, '臺南市': 408400, '基隆市': 80100, '新竹市': 45630, '嘉義市': 107840, '新北市': 677660, '桃園市': 345600, '新竹縣': 53760, '宜蘭縣': 106900, '苗栗縣': 134180, '彰化縣': 219400, '南投縣': 91240, '雲林縣': 199470, '嘉義縣': 113180, '屏東縣': 184250, '澎湖縣': 12600, '花蓮縣': 57330, '臺東縣': 28510, '金門縣': 15510, '連江縣': 7930}\n",
            "INSERT INTO stocks VALUES ('臺北市', 323660, '2023-05-01 03:46:22.899557')\n",
            "INSERT INTO stocks VALUES ('高雄市', 428940, '2023-05-01 03:46:22.912787')\n",
            "INSERT INTO stocks VALUES ('臺中市', 556440, '2023-05-01 03:46:22.922123')\n",
            "INSERT INTO stocks VALUES ('臺南市', 408400, '2023-05-01 03:46:22.931588')\n",
            "INSERT INTO stocks VALUES ('基隆市', 80100, '2023-05-01 03:46:22.941449')\n",
            "INSERT INTO stocks VALUES ('新竹市', 45630, '2023-05-01 03:46:22.951059')\n",
            "INSERT INTO stocks VALUES ('嘉義市', 107840, '2023-05-01 03:46:22.959724')\n",
            "INSERT INTO stocks VALUES ('新北市', 677660, '2023-05-01 03:46:22.968850')\n",
            "INSERT INTO stocks VALUES ('桃園市', 345600, '2023-05-01 03:46:22.978581')\n",
            "INSERT INTO stocks VALUES ('新竹縣', 53760, '2023-05-01 03:46:22.988066')\n",
            "INSERT INTO stocks VALUES ('宜蘭縣', 106900, '2023-05-01 03:46:22.997575')\n",
            "INSERT INTO stocks VALUES ('苗栗縣', 134180, '2023-05-01 03:46:23.007448')\n",
            "INSERT INTO stocks VALUES ('彰化縣', 219400, '2023-05-01 03:46:23.017074')\n",
            "INSERT INTO stocks VALUES ('南投縣', 91240, '2023-05-01 03:46:23.026833')\n",
            "INSERT INTO stocks VALUES ('雲林縣', 199470, '2023-05-01 03:46:23.036201')\n",
            "INSERT INTO stocks VALUES ('嘉義縣', 113180, '2023-05-01 03:46:23.046411')\n",
            "INSERT INTO stocks VALUES ('屏東縣', 184250, '2023-05-01 03:46:23.058513')\n",
            "INSERT INTO stocks VALUES ('澎湖縣', 12600, '2023-05-01 03:46:23.066450')\n",
            "INSERT INTO stocks VALUES ('花蓮縣', 57330, '2023-05-01 03:46:23.074026')\n",
            "INSERT INTO stocks VALUES ('臺東縣', 28510, '2023-05-01 03:46:23.083142')\n",
            "INSERT INTO stocks VALUES ('金門縣', 15510, '2023-05-01 03:46:23.092488')\n",
            "INSERT INTO stocks VALUES ('連江縣', 7930, '2023-05-01 03:46:23.104434')\n",
            "[('臺北市', 323660, '2023-05-01 03:46:22.899557'), ('高雄市', 428940, '2023-05-01 03:46:22.912787'), ('臺中市', 556440, '2023-05-01 03:46:22.922123'), ('臺南市', 408400, '2023-05-01 03:46:22.931588'), ('基隆市', 80100, '2023-05-01 03:46:22.941449'), ('新竹市', 45630, '2023-05-01 03:46:22.951059'), ('嘉義市', 107840, '2023-05-01 03:46:22.959724'), ('新北市', 677660, '2023-05-01 03:46:22.968850'), ('桃園市', 345600, '2023-05-01 03:46:22.978581'), ('新竹縣', 53760, '2023-05-01 03:46:22.988066'), ('宜蘭縣', 106900, '2023-05-01 03:46:22.997575'), ('苗栗縣', 134180, '2023-05-01 03:46:23.007448'), ('彰化縣', 219400, '2023-05-01 03:46:23.017074'), ('南投縣', 91240, '2023-05-01 03:46:23.026833'), ('雲林縣', 199470, '2023-05-01 03:46:23.036201'), ('嘉義縣', 113180, '2023-05-01 03:46:23.046411'), ('屏東縣', 184250, '2023-05-01 03:46:23.058513'), ('澎湖縣', 12600, '2023-05-01 03:46:23.066450'), ('花蓮縣', 57330, '2023-05-01 03:46:23.074026'), ('臺東縣', 28510, '2023-05-01 03:46:23.083142'), ('金門縣', 15510, '2023-05-01 03:46:23.092488'), ('連江縣', 7930, '2023-05-01 03:46:23.104434')]\n"
          ]
        }
      ]
    }
  ]
}